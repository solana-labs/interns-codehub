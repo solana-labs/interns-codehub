{
 "cells": [
  {
   "cell_type": "code",
   "execution_count": 4,
   "metadata": {},
   "outputs": [],
   "source": [
    "import os, keys\n",
    "os.environ[\"OPENAI_API_KEY\"] = keys.OPEN_AI_KEY\n",
    "os.environ[\"DEV\"] = \"true\"\n",
    "os.environ[\"HELIUS_API_KEY\"] = keys.HELIUS_KEY"
   ]
  },
  {
   "cell_type": "code",
   "execution_count": 5,
   "metadata": {},
   "outputs": [],
   "source": [
    "import yaml\n",
    "\n",
    "from langchain.agents.agent_toolkits.openapi.spec import reduce_openapi_spec\n",
    "from langchain.llms.openai import OpenAI\n",
    "from langchain.chat_models import ChatOpenAI\n",
    "from langchain.agents.agent_toolkits.openapi import planner"
   ]
  },
  {
   "cell_type": "code",
   "execution_count": 6,
   "metadata": {},
   "outputs": [],
   "source": [
    "# Run the below only the first time to get the openapi spec for your API\n",
    "# !wget https://chatgpt.solanalabs.com/openapi.yaml\n",
    "# !mv openapi.yaml local_solana_openapi.yaml"
   ]
  },
  {
   "cell_type": "code",
   "execution_count": 9,
   "metadata": {},
   "outputs": [
    {
     "name": "stdout",
     "output_type": "stream",
     "text": [
      "('POST /api/handlers/getBalance', 'Accepts Solana publicKey address. Returns the amount of lamports that the account has available.', {'description': 'Accepts Solana publicKey address. Returns the amount of lamports that the account has available.', 'responses': {'description': 'Successful Response', 'content': {'application/json': {'schema': {'title': 'GetBalanceResponse', 'type': 'object', 'properties': {'sol': {'title': 'sol', 'type': 'number'}}}}}}})\n"
     ]
    }
   ],
   "source": [
    "\n",
    "with open(\"local_solana_openapi.yaml\") as f:\n",
    "    raw_solana_api_spec = yaml.load(f, Loader=yaml.Loader)\n",
    "solana_api_spec = reduce_openapi_spec(raw_solana_api_spec)\n",
    "print(solana_api_spec.endpoints[3])"
   ]
  },
  {
   "cell_type": "code",
   "execution_count": 78,
   "metadata": {},
   "outputs": [],
   "source": [
    "# the gpt-4 model is limited access so could not try that\n",
    "llm = ChatOpenAI(temperature=0, model = \"gpt-3.5-turbo-0613\") \n",
    "# llm = ChatOpenAI(model=\"gpt-4-0613\", temperature=0.0)"
   ]
  },
  {
   "cell_type": "code",
   "execution_count": 84,
   "metadata": {},
   "outputs": [],
   "source": [
    "# for the local host version we do not have any auth so we pass in an empty dict to requests_wrapper\n",
    "solana_agent = planner.create_openapi_agent(solana_api_spec, requests_wrapper={},llm = llm)"
   ]
  },
  {
   "cell_type": "code",
   "execution_count": 87,
   "metadata": {},
   "outputs": [
    {
     "name": "stdout",
     "output_type": "stream",
     "text": [
      "\n",
      "\n",
      "\u001b[1m> Entering new AgentExecutor chain...\u001b[0m\n",
      "\u001b[32;1m\u001b[1;3mAction: api_planner\n",
      "Action Input: query = \"user balance in account 8fbqVvpK3Dj7fdP2c8JJhtD7Zy3n9qtwAeGfbkgPu625\"\u001b[0m\n",
      "Observation: \u001b[36;1m\u001b[1;3m1. POST /api/handlers/getBalance with the Solana publicKey address \"8fbqVvpK3Dj7fdP2c8JJhtD7Zy3n9qtwAeGfbkgPu625\" to retrieve the amount of lamports available in the account.\u001b[0m\n",
      "Thought:\u001b[32;1m\u001b[1;3mI have the plan to retrieve the user balance.\n",
      "Action: api_controller\n",
      "Action Input: 1. POST /api/handlers/getBalance with the Solana publicKey address \"8fbqVvpK3Dj7fdP2c8JJhtD7Zy3n9qtwAeGfbkgPu625\"\u001b[0m\n",
      "\n",
      "\u001b[1m> Entering new AgentExecutor chain...\u001b[0m\n",
      "\u001b[32;1m\u001b[1;3mI need to execute the first API call to get the balance of a Solana publicKey address. I will use the requests_post tool for this.\n",
      "\n",
      "Action: requests_post\n",
      "Action Input: \n",
      "{\n",
      "  \"url\": \"http://localhost:3000/api/handlers/getBalance\",\n",
      "  \"data\": {\n",
      "    \"address\": \"8fbqVvpK3Dj7fdP2c8JJhtD7Zy3n9qtwAeGfbkgPu625\"\n",
      "  },\n",
      "  \"output_instructions\": \"sol\"\n",
      "}\n",
      "\u001b[0m\n",
      "Observation: \u001b[33;1m\u001b[1;3m0.042545265\u001b[0m\n",
      "Thought:\u001b[32;1m\u001b[1;3mThe balance of the Solana publicKey address \"8fbqVvpK3Dj7fdP2c8JJhtD7Zy3n9qtwAeGfbkgPu625\" is 0.042545265.\n",
      "\n",
      "Final Answer: The balance of the Solana publicKey address \"8fbqVvpK3Dj7fdP2c8JJhtD7Zy3n9qtwAeGfbkgPu625\" is 0.042545265.\u001b[0m\n",
      "\n",
      "\u001b[1m> Finished chain.\u001b[0m\n",
      "\n",
      "Observation: \u001b[33;1m\u001b[1;3mThe balance of the Solana publicKey address \"8fbqVvpK3Dj7fdP2c8JJhtD7Zy3n9qtwAeGfbkgPu625\" is 0.042545265.\u001b[0m\n",
      "Thought:\u001b[32;1m\u001b[1;3mI have executed the plan and retrieved the user balance.\n",
      "Final Answer: The user balance in account 8fbqVvpK3Dj7fdP2c8JJhtD7Zy3n9qtwAeGfbkgPu625 is 0.042545265.\u001b[0m\n",
      "\n",
      "\u001b[1m> Finished chain.\u001b[0m\n"
     ]
    },
    {
     "data": {
      "text/plain": [
       "'The user balance in account 8fbqVvpK3Dj7fdP2c8JJhtD7Zy3n9qtwAeGfbkgPu625 is 0.042545265.'"
      ]
     },
     "execution_count": 87,
     "metadata": {},
     "output_type": "execute_result"
    }
   ],
   "source": [
    "user_query = (\"tell me the user balance in account 8fbqVvpK3Dj7fdP2c8JJhtD7Zy3n9qtwAeGfbkgPu625\")\n",
    "solana_agent.run(user_query)\n",
    "# got the expected response"
   ]
  },
  {
   "cell_type": "code",
   "execution_count": 88,
   "metadata": {},
   "outputs": [
    {
     "name": "stdout",
     "output_type": "stream",
     "text": [
      "\n",
      "\n",
      "\u001b[1m> Entering new AgentExecutor chain...\u001b[0m\n",
      "\u001b[32;1m\u001b[1;3mAction: api_planner\n",
      "Action Input: \"account_info\" query with account_id = \"8fbqVvpK3Dj7fdP2c8JJhtD7Zy3n9qtwAeGfbkgPu625\"\u001b[0m\n",
      "Observation: \u001b[36;1m\u001b[1;3m1. POST /api/handlers/getAccountInfo with the account_id \"8fbqVvpK3Dj7fdP2c8JJhtD7Zy3n9qtwAeGfbkgPu625\" to retrieve information about the account.\u001b[0m\n",
      "Thought:\u001b[32;1m\u001b[1;3mI have the plan to retrieve the account information.\n",
      "Action: api_controller\n",
      "Action Input: POST /api/handlers/getAccountInfo with the account_id \"8fbqVvpK3Dj7fdP2c8JJhtD7Zy3n9qtwAeGfbkgPu625\"\u001b[0m\n",
      "\n",
      "\u001b[1m> Entering new AgentExecutor chain...\u001b[0m\n",
      "\u001b[32;1m\u001b[1;3mI need to execute the POST /api/handlers/getAccountInfo API call with the account_id \"8fbqVvpK3Dj7fdP2c8JJhtD7Zy3n9qtwAeGfbkgPu625\". I will use the requests_post tool for this.\n",
      "\n",
      "Action: requests_post\n",
      "Action Input: \n",
      "{\n",
      "  \"url\": \"http://localhost:3000/api/handlers/getAccountInfo\",\n",
      "  \"data\": {\n",
      "    \"account_id\": \"8fbqVvpK3Dj7fdP2c8JJhtD7Zy3n9qtwAeGfbkgPu625\"\n",
      "  },\n",
      "  \"output_instructions\": \"\"\n",
      "}\n",
      "\u001b[0m\n",
      "Observation: \u001b[33;1m\u001b[1;3mThere is an error with the API request. TypeError: Cannot read properties of undefined (reading '_bn').\u001b[0m\n",
      "Thought:\u001b[32;1m\u001b[1;3mThe API request is returning an error. It seems that there is an issue with the input data. I will need to investigate further to determine the cause of the error.\n",
      "\n",
      "Action: requests_post\n",
      "Action Input: \n",
      "{\n",
      "  \"url\": \"http://localhost:3000/api/handlers/getAccountInfo\",\n",
      "  \"data\": {\n",
      "    \"account_id\": \"8fbqVvpK3Dj7fdP2c8JJhtD7Zy3n9qtwAeGfbkgPu625\"\n",
      "  },\n",
      "  \"output_instructions\": \"\"\n",
      "}\n",
      "\u001b[0m\n",
      "Observation: \u001b[33;1m\u001b[1;3mTypeError: Cannot read properties of undefined (reading '_bn')\u001b[0m\n",
      "Thought:\u001b[32;1m\u001b[1;3mThe error is still occurring. It seems that the issue is not with the input data, but with the API itself. I will need to investigate further or contact the API provider for assistance.\n",
      "\n",
      "Final Answer: I cannot complete the plan without further information or assistance from the API provider.\u001b[0m\n",
      "\n",
      "\u001b[1m> Finished chain.\u001b[0m\n",
      "\n",
      "Observation: \u001b[33;1m\u001b[1;3mI cannot complete the plan without further information or assistance from the API provider.\u001b[0m\n",
      "Thought:"
     ]
    },
    {
     "ename": "ValueError",
     "evalue": "Could not parse LLM output: `I need to reach out to the API provider for further assistance or information to complete the user's query.`",
     "output_type": "error",
     "traceback": [
      "\u001b[0;31m---------------------------------------------------------------------------\u001b[0m",
      "\u001b[0;31mValueError\u001b[0m                                Traceback (most recent call last)",
      "Cell \u001b[0;32mIn[88], line 2\u001b[0m\n\u001b[1;32m      1\u001b[0m user_query \u001b[39m=\u001b[39m (\u001b[39m\"\u001b[39m\u001b[39mCould you provide some info for account 8fbqVvpK3Dj7fdP2c8JJhtD7Zy3n9qtwAeGfbkgPu625?\u001b[39m\u001b[39m\"\u001b[39m)\n\u001b[0;32m----> 2\u001b[0m solana_agent\u001b[39m.\u001b[39;49mrun(user_query)\n\u001b[1;32m      3\u001b[0m \u001b[39m# the api call is not formatting the input json correctly. In place of address, it is sending the key account_id\u001b[39;00m\n",
      "File \u001b[0;32m~/Library/Caches/pypoetry/virtualenvs/solana-gpt-plugin-H3vUv68--py3.11/lib/python3.11/site-packages/langchain/chains/base.py:213\u001b[0m, in \u001b[0;36mChain.run\u001b[0;34m(self, *args, **kwargs)\u001b[0m\n\u001b[1;32m    211\u001b[0m     \u001b[39mif\u001b[39;00m \u001b[39mlen\u001b[39m(args) \u001b[39m!=\u001b[39m \u001b[39m1\u001b[39m:\n\u001b[1;32m    212\u001b[0m         \u001b[39mraise\u001b[39;00m \u001b[39mValueError\u001b[39;00m(\u001b[39m\"\u001b[39m\u001b[39m`run` supports only one positional argument.\u001b[39m\u001b[39m\"\u001b[39m)\n\u001b[0;32m--> 213\u001b[0m     \u001b[39mreturn\u001b[39;00m \u001b[39mself\u001b[39;49m(args[\u001b[39m0\u001b[39;49m])[\u001b[39mself\u001b[39m\u001b[39m.\u001b[39moutput_keys[\u001b[39m0\u001b[39m]]\n\u001b[1;32m    215\u001b[0m \u001b[39mif\u001b[39;00m kwargs \u001b[39mand\u001b[39;00m \u001b[39mnot\u001b[39;00m args:\n\u001b[1;32m    216\u001b[0m     \u001b[39mreturn\u001b[39;00m \u001b[39mself\u001b[39m(kwargs)[\u001b[39mself\u001b[39m\u001b[39m.\u001b[39moutput_keys[\u001b[39m0\u001b[39m]]\n",
      "File \u001b[0;32m~/Library/Caches/pypoetry/virtualenvs/solana-gpt-plugin-H3vUv68--py3.11/lib/python3.11/site-packages/langchain/chains/base.py:116\u001b[0m, in \u001b[0;36mChain.__call__\u001b[0;34m(self, inputs, return_only_outputs)\u001b[0m\n\u001b[1;32m    114\u001b[0m \u001b[39mexcept\u001b[39;00m (\u001b[39mKeyboardInterrupt\u001b[39;00m, \u001b[39mException\u001b[39;00m) \u001b[39mas\u001b[39;00m e:\n\u001b[1;32m    115\u001b[0m     \u001b[39mself\u001b[39m\u001b[39m.\u001b[39mcallback_manager\u001b[39m.\u001b[39mon_chain_error(e, verbose\u001b[39m=\u001b[39m\u001b[39mself\u001b[39m\u001b[39m.\u001b[39mverbose)\n\u001b[0;32m--> 116\u001b[0m     \u001b[39mraise\u001b[39;00m e\n\u001b[1;32m    117\u001b[0m \u001b[39mself\u001b[39m\u001b[39m.\u001b[39mcallback_manager\u001b[39m.\u001b[39mon_chain_end(outputs, verbose\u001b[39m=\u001b[39m\u001b[39mself\u001b[39m\u001b[39m.\u001b[39mverbose)\n\u001b[1;32m    118\u001b[0m \u001b[39mreturn\u001b[39;00m \u001b[39mself\u001b[39m\u001b[39m.\u001b[39mprep_outputs(inputs, outputs, return_only_outputs)\n",
      "File \u001b[0;32m~/Library/Caches/pypoetry/virtualenvs/solana-gpt-plugin-H3vUv68--py3.11/lib/python3.11/site-packages/langchain/chains/base.py:113\u001b[0m, in \u001b[0;36mChain.__call__\u001b[0;34m(self, inputs, return_only_outputs)\u001b[0m\n\u001b[1;32m    107\u001b[0m \u001b[39mself\u001b[39m\u001b[39m.\u001b[39mcallback_manager\u001b[39m.\u001b[39mon_chain_start(\n\u001b[1;32m    108\u001b[0m     {\u001b[39m\"\u001b[39m\u001b[39mname\u001b[39m\u001b[39m\"\u001b[39m: \u001b[39mself\u001b[39m\u001b[39m.\u001b[39m\u001b[39m__class__\u001b[39m\u001b[39m.\u001b[39m\u001b[39m__name__\u001b[39m},\n\u001b[1;32m    109\u001b[0m     inputs,\n\u001b[1;32m    110\u001b[0m     verbose\u001b[39m=\u001b[39m\u001b[39mself\u001b[39m\u001b[39m.\u001b[39mverbose,\n\u001b[1;32m    111\u001b[0m )\n\u001b[1;32m    112\u001b[0m \u001b[39mtry\u001b[39;00m:\n\u001b[0;32m--> 113\u001b[0m     outputs \u001b[39m=\u001b[39m \u001b[39mself\u001b[39;49m\u001b[39m.\u001b[39;49m_call(inputs)\n\u001b[1;32m    114\u001b[0m \u001b[39mexcept\u001b[39;00m (\u001b[39mKeyboardInterrupt\u001b[39;00m, \u001b[39mException\u001b[39;00m) \u001b[39mas\u001b[39;00m e:\n\u001b[1;32m    115\u001b[0m     \u001b[39mself\u001b[39m\u001b[39m.\u001b[39mcallback_manager\u001b[39m.\u001b[39mon_chain_error(e, verbose\u001b[39m=\u001b[39m\u001b[39mself\u001b[39m\u001b[39m.\u001b[39mverbose)\n",
      "File \u001b[0;32m~/Library/Caches/pypoetry/virtualenvs/solana-gpt-plugin-H3vUv68--py3.11/lib/python3.11/site-packages/langchain/agents/agent.py:812\u001b[0m, in \u001b[0;36mAgentExecutor._call\u001b[0;34m(self, inputs)\u001b[0m\n\u001b[1;32m    810\u001b[0m \u001b[39m# We now enter the agent loop (until it returns something).\u001b[39;00m\n\u001b[1;32m    811\u001b[0m \u001b[39mwhile\u001b[39;00m \u001b[39mself\u001b[39m\u001b[39m.\u001b[39m_should_continue(iterations, time_elapsed):\n\u001b[0;32m--> 812\u001b[0m     next_step_output \u001b[39m=\u001b[39m \u001b[39mself\u001b[39;49m\u001b[39m.\u001b[39;49m_take_next_step(\n\u001b[1;32m    813\u001b[0m         name_to_tool_map, color_mapping, inputs, intermediate_steps\n\u001b[1;32m    814\u001b[0m     )\n\u001b[1;32m    815\u001b[0m     \u001b[39mif\u001b[39;00m \u001b[39misinstance\u001b[39m(next_step_output, AgentFinish):\n\u001b[1;32m    816\u001b[0m         \u001b[39mreturn\u001b[39;00m \u001b[39mself\u001b[39m\u001b[39m.\u001b[39m_return(next_step_output, intermediate_steps)\n",
      "File \u001b[0;32m~/Library/Caches/pypoetry/virtualenvs/solana-gpt-plugin-H3vUv68--py3.11/lib/python3.11/site-packages/langchain/agents/agent.py:692\u001b[0m, in \u001b[0;36mAgentExecutor._take_next_step\u001b[0;34m(self, name_to_tool_map, color_mapping, inputs, intermediate_steps)\u001b[0m\n\u001b[1;32m    687\u001b[0m \u001b[39m\u001b[39m\u001b[39m\"\"\"Take a single step in the thought-action-observation loop.\u001b[39;00m\n\u001b[1;32m    688\u001b[0m \n\u001b[1;32m    689\u001b[0m \u001b[39mOverride this to take control of how the agent makes and acts on choices.\u001b[39;00m\n\u001b[1;32m    690\u001b[0m \u001b[39m\"\"\"\u001b[39;00m\n\u001b[1;32m    691\u001b[0m \u001b[39m# Call the LLM to see what to do.\u001b[39;00m\n\u001b[0;32m--> 692\u001b[0m output \u001b[39m=\u001b[39m \u001b[39mself\u001b[39;49m\u001b[39m.\u001b[39;49magent\u001b[39m.\u001b[39;49mplan(intermediate_steps, \u001b[39m*\u001b[39;49m\u001b[39m*\u001b[39;49minputs)\n\u001b[1;32m    693\u001b[0m \u001b[39m# If the tool chosen is the finishing tool, then we end and return.\u001b[39;00m\n\u001b[1;32m    694\u001b[0m \u001b[39mif\u001b[39;00m \u001b[39misinstance\u001b[39m(output, AgentFinish):\n",
      "File \u001b[0;32m~/Library/Caches/pypoetry/virtualenvs/solana-gpt-plugin-H3vUv68--py3.11/lib/python3.11/site-packages/langchain/agents/agent.py:403\u001b[0m, in \u001b[0;36mAgent.plan\u001b[0;34m(self, intermediate_steps, **kwargs)\u001b[0m\n\u001b[1;32m    392\u001b[0m \u001b[39m\u001b[39m\u001b[39m\"\"\"Given input, decided what to do.\u001b[39;00m\n\u001b[1;32m    393\u001b[0m \n\u001b[1;32m    394\u001b[0m \u001b[39mArgs:\u001b[39;00m\n\u001b[0;32m   (...)\u001b[0m\n\u001b[1;32m    400\u001b[0m \u001b[39m    Action specifying what tool to use.\u001b[39;00m\n\u001b[1;32m    401\u001b[0m \u001b[39m\"\"\"\u001b[39;00m\n\u001b[1;32m    402\u001b[0m full_inputs \u001b[39m=\u001b[39m \u001b[39mself\u001b[39m\u001b[39m.\u001b[39mget_full_inputs(intermediate_steps, \u001b[39m*\u001b[39m\u001b[39m*\u001b[39mkwargs)\n\u001b[0;32m--> 403\u001b[0m action \u001b[39m=\u001b[39m \u001b[39mself\u001b[39;49m\u001b[39m.\u001b[39;49m_get_next_action(full_inputs)\n\u001b[1;32m    404\u001b[0m \u001b[39mif\u001b[39;00m action\u001b[39m.\u001b[39mtool \u001b[39m==\u001b[39m \u001b[39mself\u001b[39m\u001b[39m.\u001b[39mfinish_tool_name:\n\u001b[1;32m    405\u001b[0m     \u001b[39mreturn\u001b[39;00m AgentFinish({\u001b[39m\"\u001b[39m\u001b[39moutput\u001b[39m\u001b[39m\"\u001b[39m: action\u001b[39m.\u001b[39mtool_input}, action\u001b[39m.\u001b[39mlog)\n",
      "File \u001b[0;32m~/Library/Caches/pypoetry/virtualenvs/solana-gpt-plugin-H3vUv68--py3.11/lib/python3.11/site-packages/langchain/agents/agent.py:365\u001b[0m, in \u001b[0;36mAgent._get_next_action\u001b[0;34m(self, full_inputs)\u001b[0m\n\u001b[1;32m    363\u001b[0m \u001b[39mdef\u001b[39;00m \u001b[39m_get_next_action\u001b[39m(\u001b[39mself\u001b[39m, full_inputs: Dict[\u001b[39mstr\u001b[39m, \u001b[39mstr\u001b[39m]) \u001b[39m-\u001b[39m\u001b[39m>\u001b[39m AgentAction:\n\u001b[1;32m    364\u001b[0m     full_output \u001b[39m=\u001b[39m \u001b[39mself\u001b[39m\u001b[39m.\u001b[39mllm_chain\u001b[39m.\u001b[39mpredict(\u001b[39m*\u001b[39m\u001b[39m*\u001b[39mfull_inputs)\n\u001b[0;32m--> 365\u001b[0m     parsed_output \u001b[39m=\u001b[39m \u001b[39mself\u001b[39;49m\u001b[39m.\u001b[39;49m_extract_tool_and_input(full_output)\n\u001b[1;32m    366\u001b[0m     \u001b[39mwhile\u001b[39;00m parsed_output \u001b[39mis\u001b[39;00m \u001b[39mNone\u001b[39;00m:\n\u001b[1;32m    367\u001b[0m         full_output \u001b[39m=\u001b[39m \u001b[39mself\u001b[39m\u001b[39m.\u001b[39m_fix_text(full_output)\n",
      "File \u001b[0;32m~/Library/Caches/pypoetry/virtualenvs/solana-gpt-plugin-H3vUv68--py3.11/lib/python3.11/site-packages/langchain/agents/mrkl/base.py:140\u001b[0m, in \u001b[0;36mZeroShotAgent._extract_tool_and_input\u001b[0;34m(self, text)\u001b[0m\n\u001b[1;32m    139\u001b[0m \u001b[39mdef\u001b[39;00m \u001b[39m_extract_tool_and_input\u001b[39m(\u001b[39mself\u001b[39m, text: \u001b[39mstr\u001b[39m) \u001b[39m-\u001b[39m\u001b[39m>\u001b[39m Optional[Tuple[\u001b[39mstr\u001b[39m, \u001b[39mstr\u001b[39m]]:\n\u001b[0;32m--> 140\u001b[0m     \u001b[39mreturn\u001b[39;00m get_action_and_input(text)\n",
      "File \u001b[0;32m~/Library/Caches/pypoetry/virtualenvs/solana-gpt-plugin-H3vUv68--py3.11/lib/python3.11/site-packages/langchain/agents/mrkl/base.py:48\u001b[0m, in \u001b[0;36mget_action_and_input\u001b[0;34m(llm_output)\u001b[0m\n\u001b[1;32m     46\u001b[0m match \u001b[39m=\u001b[39m re\u001b[39m.\u001b[39msearch(regex, llm_output, re\u001b[39m.\u001b[39mDOTALL)\n\u001b[1;32m     47\u001b[0m \u001b[39mif\u001b[39;00m \u001b[39mnot\u001b[39;00m match:\n\u001b[0;32m---> 48\u001b[0m     \u001b[39mraise\u001b[39;00m \u001b[39mValueError\u001b[39;00m(\u001b[39mf\u001b[39m\u001b[39m\"\u001b[39m\u001b[39mCould not parse LLM output: `\u001b[39m\u001b[39m{\u001b[39;00mllm_output\u001b[39m}\u001b[39;00m\u001b[39m`\u001b[39m\u001b[39m\"\u001b[39m)\n\u001b[1;32m     49\u001b[0m action \u001b[39m=\u001b[39m match\u001b[39m.\u001b[39mgroup(\u001b[39m1\u001b[39m)\u001b[39m.\u001b[39mstrip()\n\u001b[1;32m     50\u001b[0m action_input \u001b[39m=\u001b[39m match\u001b[39m.\u001b[39mgroup(\u001b[39m2\u001b[39m)\n",
      "\u001b[0;31mValueError\u001b[0m: Could not parse LLM output: `I need to reach out to the API provider for further assistance or information to complete the user's query.`"
     ]
    }
   ],
   "source": [
    "user_query = (\"Could you provide some info for account 8fbqVvpK3Dj7fdP2c8JJhtD7Zy3n9qtwAeGfbkgPu625?\")\n",
    "solana_agent.run(user_query)\n",
    "# the api call is not formatting the input json correctly. In place of address, it is sending the key account_id"
   ]
  },
  {
   "cell_type": "code",
   "execution_count": 1,
   "metadata": {},
   "outputs": [
    {
     "ename": "NameError",
     "evalue": "name 'solana_agent' is not defined",
     "output_type": "error",
     "traceback": [
      "\u001b[0;31m---------------------------------------------------------------------------\u001b[0m",
      "\u001b[0;31mNameError\u001b[0m                                 Traceback (most recent call last)",
      "Cell \u001b[0;32mIn[1], line 2\u001b[0m\n\u001b[1;32m      1\u001b[0m user_query \u001b[39m=\u001b[39m (\u001b[39m\"\u001b[39m\u001b[39mCould you tell me all the assets owned by owner 8fbqVvpK3Dj7fdP2c8JJhtD7Zy3n9qtwAeGfbkgPu625 ?\u001b[39m\u001b[39m\"\u001b[39m)\n\u001b[0;32m----> 2\u001b[0m solana_agent\u001b[39m.\u001b[39mrun(user_query)\n\u001b[1;32m      3\u001b[0m \u001b[39m# wrong api call, input: data: ownerAddress in place of just address\u001b[39;00m\n",
      "\u001b[0;31mNameError\u001b[0m: name 'solana_agent' is not defined"
     ]
    }
   ],
   "source": [
    "user_query = (\"Could you tell me all the assets owned by owner 8fbqVvpK3Dj7fdP2c8JJhtD7Zy3n9qtwAeGfbkgPu625 ?\")\n",
    "solana_agent.run(user_query)\n",
    "# wrong api call, input: data: ownerAddress in place of just address"
   ]
  },
  {
   "attachments": {},
   "cell_type": "markdown",
   "metadata": {},
   "source": [
    "### Conclusion:\n",
    "\n",
    "**Pros/Good Finds:**\n",
    "- Replacing the older models by `gpt-3.5-turbo-0613` helps even if we're not using the function calling openai tool. \n",
    "    - This is because of the API training data fed to the `gpt-3.5-turbo-0613` model\n",
    "- The advantage over ZERO-SHOT-REACT-DESCRIPTION is that this agent is not generating random API endpoints. It is picking the endpoints from the OPENAPI spec well\n",
    "- It does good on the URL and the path but not well on the format, discussed below. \n",
    "- \n",
    "\n",
    "**Cons/Issues found:**\n",
    "- It messes up when it comes to the `data` of the POST request. It does not follow what is clearly specified in the OPENAPI spec.\n",
    "- Due to this it in the getAccountInfo example above it is sending the data with `account_id` field that is nowhere in the spec.\n",
    "- But it does form the right data also sometimes as we can see with the getBalance endpoint above. \n",
    "- getAssetsByOwner is having issues because of HELIUS API KEY issues with the local host(not directly related to Agent choice)\n",
    "\n"
   ]
  }
 ],
 "metadata": {
  "kernelspec": {
   "display_name": "base",
   "language": "python",
   "name": "python3"
  },
  "language_info": {
   "codemirror_mode": {
    "name": "ipython",
    "version": 3
   },
   "file_extension": ".py",
   "mimetype": "text/x-python",
   "name": "python",
   "nbconvert_exporter": "python",
   "pygments_lexer": "ipython3",
   "version": "3.11.3"
  },
  "orig_nbformat": 4
 },
 "nbformat": 4,
 "nbformat_minor": 2
}
